{
 "cells": [
  {
   "cell_type": "code",
   "execution_count": 1,
   "id": "0e117b7a",
   "metadata": {},
   "outputs": [],
   "source": [
    "from binance import Client"
   ]
  },
  {
   "cell_type": "code",
   "execution_count": 2,
   "id": "c6b4659a",
   "metadata": {},
   "outputs": [],
   "source": [
    "import pandas as pd"
   ]
  },
  {
   "cell_type": "code",
   "execution_count": 3,
   "id": "d1522ead",
   "metadata": {},
   "outputs": [],
   "source": [
    "from binance import BinanceSocketManager"
   ]
  },
  {
   "cell_type": "code",
   "execution_count": 4,
   "id": "71274847",
   "metadata": {},
   "outputs": [],
   "source": [
    "import time"
   ]
  },
  {
   "cell_type": "code",
   "execution_count": 5,
   "id": "238aa8c9",
   "metadata": {},
   "outputs": [],
   "source": [
    "import numpy as np"
   ]
  },
  {
   "cell_type": "code",
   "execution_count": 6,
   "id": "91e76f97",
   "metadata": {},
   "outputs": [],
   "source": [
    "import sys"
   ]
  },
  {
   "cell_type": "code",
   "execution_count": 7,
   "id": "b8a42e01",
   "metadata": {},
   "outputs": [],
   "source": [
    "from decimal import Decimal, ROUND_HALF_UP"
   ]
  },
  {
   "cell_type": "code",
   "execution_count": 8,
   "id": "ebdfa752",
   "metadata": {},
   "outputs": [],
   "source": [
    "%run ./Binance_keys.ipynb"
   ]
  },
  {
   "cell_type": "code",
   "execution_count": 9,
   "id": "25640861",
   "metadata": {},
   "outputs": [],
   "source": [
    "client = Client(api_key, api_secret)"
   ]
  },
  {
   "cell_type": "code",
   "execution_count": 10,
   "id": "39f8f687",
   "metadata": {},
   "outputs": [],
   "source": [
    "def getminutedata(symbol, interval, lookback):\n",
    "    frame = pd.DataFrame(client.get_historical_klines(symbol, interval, lookback+' min ago UTC'))\n",
    "    frame = frame.iloc[:,:6]\n",
    "    frame.columns = ['Time', 'Open', 'High', 'Low', 'Close', 'Volume']\n",
    "    frame = frame.set_index('Time')\n",
    "    frame.index = pd.to_datetime(frame.index, unit= 'ms')\n",
    "    frame = frame.astype(float)\n",
    "    return frame"
   ]
  },
  {
   "cell_type": "code",
   "execution_count": 11,
   "id": "e2b9903e",
   "metadata": {},
   "outputs": [],
   "source": [
    "def currentprice(symbol):\n",
    "    dic = client.get_ticker(symbol= 'AVAXUSDT')\n",
    "    price = dic.get(\"lastPrice\")\n",
    "    strings = [str(integer) for integer in price]\n",
    "    a_string = \"\".join(strings)\n",
    "    a_string = a_string.split('.', 1)[0]+ '.'+a_string.split('.', 2)[1] \n",
    "    a_float = float(a_string)\n",
    "    return a_float"
   ]
  },
  {
   "cell_type": "code",
   "execution_count": 12,
   "id": "48f20a97",
   "metadata": {},
   "outputs": [],
   "source": [
    "def getlastsell():\n",
    "    frame = pd.DataFrame(client.get_my_trades(symbol='AVAXUSDT'))\n",
    "    frame = frame.iloc[1:, -9:-1]\n",
    "    frame = frame[(frame['isBuyer']==False)]\n",
    "    frame = frame.iloc[-1:, :2]\n",
    "    frame = frame.astype(float)\n",
    "    frame = frame.set_index('qty')\n",
    "    #frame = frame.get(key='price')\n",
    "    dic = frame.to_dict(\"list\")\n",
    "    listdic = dic.get('price')\n",
    "    strings = [str(integer) for integer in listdic]\n",
    "    a_string = \"\".join(strings)\n",
    "    a_string = a_string.split('.', 1)[0]+ '.'+a_string.split('.', 2)[1]\n",
    "    a_float = float(a_string)\n",
    "    return a_float"
   ]
  },
  {
   "cell_type": "code",
   "execution_count": 13,
   "id": "f3f0dc9a",
   "metadata": {},
   "outputs": [],
   "source": [
    "def getlastbuy():\n",
    "    frame = pd.DataFrame(client.get_my_trades(symbol='AVAXUSDT'))\n",
    "    frame = frame.iloc[1:, -9:-1]\n",
    "    frame = frame[(frame['isBuyer']==True)]\n",
    "    frame = frame.iloc[-1:, :2]\n",
    "    frame = frame.astype(float)\n",
    "    #frame = frame.get(key='price')\n",
    "    frame = frame.set_index('qty')\n",
    "    dic = frame.to_dict(\"list\")\n",
    "    listdic = dic.get('price')\n",
    "    strings = [str(integer) for integer in listdic]\n",
    "    a_string = \"\".join(strings)\n",
    "    a_string = a_string.split('.', 1)[0]+ '.'+a_string.split('.', 2)[1]\n",
    "    a_float = float(a_string)\n",
    "    return a_float"
   ]
  },
  {
   "cell_type": "code",
   "execution_count": 14,
   "id": "ab0c7087",
   "metadata": {},
   "outputs": [],
   "source": [
    "def getlastbuyqty():\n",
    "    frame = pd.DataFrame(client.get_my_trades(symbol='AVAXUSDT'))\n",
    "    frame = frame.iloc[1:, -9:-1]\n",
    "    frame = frame[(frame['isBuyer']==True)]\n",
    "    frame = frame.iloc[-1:, :2]\n",
    "    frame = frame.astype(float)\n",
    "    #frame = frame.get(key='price')\n",
    "    frame = frame.set_index('price')\n",
    "    dic = frame.to_dict(\"list\")\n",
    "    listdic = dic.get('qty')\n",
    "    strings = [str(integer) for integer in listdic]\n",
    "    a_string = \"\".join(strings)\n",
    "    a_string = a_string.split('.', 1)[0]+ '.'+a_string.split('.', 2)[1]\n",
    "    a_float = float(a_string)\n",
    "    return a_float"
   ]
  },
  {
   "cell_type": "code",
   "execution_count": 15,
   "id": "55e25b97",
   "metadata": {},
   "outputs": [],
   "source": [
    "def to_money(amount) -> Decimal:\n",
    "    money = Decimal(amount).quantize(Decimal('.00'), rounding=ROUND_HALF_UP)\n",
    "    return money"
   ]
  },
  {
   "cell_type": "code",
   "execution_count": 16,
   "id": "878d72c4",
   "metadata": {},
   "outputs": [],
   "source": [
    "def strategyCrypto(symbol, bought = False):\n",
    "    while True:\n",
    "        try:\n",
    "        \n",
    "            if not bought:\n",
    "                while True:\n",
    "                    framing = getminutedata(symbol, '1m', '10m')\n",
    "                    actualprice = currentprice(symbol)\n",
    "                    #numericprice = actualprice.apply(pd.to_numeric)\n",
    "                    lastsell = getlastsell()\n",
    "                    #numericsell = lastsell.apply(pd.to_numeric)\n",
    "                    cumulret = (framing.Open.pct_change() +1).cumprod() -1\n",
    "                    usdt = client.get_asset_balance(asset='USDT')\n",
    "                    usdtstr = usdt.get(\"free\")\n",
    "                    usdtfloat = float(usdtstr)\n",
    "                    usdtavail = usdtfloat * 1\n",
    "                    numbercrypto = usdtavail // actualprice\n",
    "                    #   cumulret[-1] < -0.001 and \n",
    "                    if cumulret[-1] < -0.00539:\n",
    "                    #if (actualprice*1.001) < (lastsell*.997) or cumulret[-1] > 0.023:\n",
    "                        order = client.create_order(symbol = symbol, side='BUY', type= 'MARKET', quantity = numbercrypto)\n",
    "                        print(order)\n",
    "                        bought = True\n",
    "                        break\n",
    "                    else:\n",
    "                        print(\"No Trade has been executed\")\n",
    "            \n",
    "            if bought:\n",
    "                while True:\n",
    "                    framing = getminutedata(symbol, '1m', '30m')\n",
    "                    framingUrgent = getminutedata(symbol, '1m', '480m')\n",
    "                    framingnormal = getminutedata(symbol, '1m', '10m')\n",
    "                    urgentret = (framingUrgent.Open.pct_change() +1).cumprod() -1\n",
    "                    normalret = (framingnormal.Open.pct_change() +1).cumprod() -1\n",
    "                    actualprice = currentprice(symbol)\n",
    "                    avax = client.get_asset_balance(asset='AVAX')\n",
    "                    avaxstr = avax.get(\"free\")\n",
    "                    avaxfloat = float(avaxstr)\n",
    "                    avaxavail = avaxfloat * 0.47\n",
    "                    avaxurgent = avaxfloat * 0.955\n",
    "                    avaxavail = to_money(avaxavail)\n",
    "                    avaxurgent = to_money(avaxurgent)\n",
    "                    lastbuy = getlastbuy()\n",
    "                    lastbuyqty = getlastbuyqty()\n",
    "                    lastbuyqty = to_money(lastbuyqty)\n",
    "                    sincebuy = framing.loc[framing.index > pd.to_datetime(order['transactTime'], unit = 'ms')]\n",
    "                    \n",
    "                    \n",
    "                    lastbuyqtyfinal = order.get('executedQty')\n",
    "                    stringsqty = [str(integer) for integer in lastbuyqtyfinal]\n",
    "                    qty_string = \"\".join(stringsqty)\n",
    "                    qty_string = qty_string.split('.', 1)[0]+ '.'+qty_string.split('.', 2)[1]\n",
    "                    qty_float = float(qty_string)\n",
    "                    lastbuyqtyfinalavail = to_money(qty_float)\n",
    "                    \n",
    "                    if len(sincebuy) > 0:\n",
    "                        sincebuyret = (sincebuy.Open.pct_change() +1).cumprod() -1\n",
    "                        #sincebuyret[-1] > 0.0009 and \n",
    "                        if (((actualprice*.997) > (lastbuy*1.001)) and urgentret[-1] > .15):\n",
    "                            order = client.create_order(symbol = symbol, side='SELL', type= 'MARKET', quantity = avaxurgent)\n",
    "                            print(order)\n",
    "                            bought = False\n",
    "                            time.sleep(5400)\n",
    "                            break\n",
    "                        #elif (actualprice*.997) > (lastbuy*1.001):\n",
    "                        elif (((actualprice*.997) > (lastbuy*1.001)) and normalret[-1] > .00539):\n",
    "                            order = client.create_order(symbol = symbol, side='SELL', type= 'MARKET', quantity = lastbuyqtyfinalavail)\n",
    "                            print(order)\n",
    "                            bought = False\n",
    "                            break\n",
    "        except: # catch *all* exceptions\n",
    "            e = sys.exc_info()[0]\n",
    "            print(\"Oops!  That was invalid data.  Try again...\")\n",
    "            print(e)"
   ]
  },
  {
   "cell_type": "code",
   "execution_count": null,
   "id": "7d3356a9",
   "metadata": {},
   "outputs": [
    {
     "name": "stdout",
     "output_type": "stream",
     "text": [
      "No Trade has been executed\n",
      "No Trade has been executed\n",
      "No Trade has been executed\n",
      "No Trade has been executed\n",
      "No Trade has been executed\n",
      "No Trade has been executed\n",
      "Oops!  That was invalid data.  Try again...\n",
      "<class 'KeyboardInterrupt'>\n",
      "No Trade has been executed\n",
      "No Trade has been executed\n",
      "No Trade has been executed\n",
      "No Trade has been executed\n",
      "No Trade has been executed\n",
      "No Trade has been executed\n",
      "No Trade has been executed\n"
     ]
    }
   ],
   "source": [
    "strategyCrypto('AVAXUSDT')"
   ]
  },
  {
   "cell_type": "code",
   "execution_count": null,
   "id": "e24216eb",
   "metadata": {},
   "outputs": [],
   "source": []
  }
 ],
 "metadata": {
  "kernelspec": {
   "display_name": "Python 3 (ipykernel)",
   "language": "python",
   "name": "python3"
  },
  "language_info": {
   "codemirror_mode": {
    "name": "ipython",
    "version": 3
   },
   "file_extension": ".py",
   "mimetype": "text/x-python",
   "name": "python",
   "nbconvert_exporter": "python",
   "pygments_lexer": "ipython3",
   "version": "3.10.5"
  }
 },
 "nbformat": 4,
 "nbformat_minor": 5
}
